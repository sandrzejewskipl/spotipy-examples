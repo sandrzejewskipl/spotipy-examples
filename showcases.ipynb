{
 "cells": [
  {
   "cell_type": "markdown",
   "metadata": {},
   "source": [
    "# Showcases"
   ]
  },
  {
   "cell_type": "markdown",
   "metadata": {},
   "source": [
    "A series of showcase for the spotipy application."
   ]
  },
  {
   "attachments": {},
   "cell_type": "markdown",
   "metadata": {},
   "source": [
    "## Summary\n",
    "\n",
    "The current summary follows the index order of the official Spotify Documentation. So, you can directly check how to use Spotipy for each Spotify API defined in the Spotify reference page.\n",
    "\n",
    "- [Setup](#Setup)\n",
    "- [Imports](#Imports)\n",
    "- [Examples](#Examples)\n",
    "    - [Credentials](#Credentials)\n",
    "    - [Albums](#Albums)\n",
    "        - Get Album Info\n",
    "        - Get Several Album\n",
    "        - Get Albums Tracks\n",
    "        - Get Saved Albums\n",
    "        - Save Albums for Current User\n",
    "        - Remove Users' Saved Albums\n",
    "        - Check Users' Saved Albums\n",
    "        - Get New Release\n",
    "    - [Artists](#Artists)\n",
    "        - Get Artist Info\n",
    "        - Get Several Artists\n",
    "        - Get Artist's Albums\n",
    "        - Get Artist's Top Tracks\n",
    "        - Get Artist's Related Artists\n",
    "    - [Shows](#Shows)\n",
    "        - Get Show Info\n",
    "        - Get Several Shows\n",
    "        - Get Show Episodes\n",
    "        - Get User's Saved Shows\n",
    "        - Save Show for the Current User\n",
    "        - Remove User's Saved Albums\n",
    "        - Check User's Saved Shows\n",
    "    - [Episodes](#Episodes)\n",
    "        - Get Episode\n",
    "        - Get Several Episodes\n",
    "        - Get User's Saved Episodes\n",
    "        - Save Episodes for Current User\n",
    "        - Remove User's Saved Episodes\n",
    "        - Check User's Saved Episodes\n",
    "    - [Audiobooks](#Audiobooks)\n",
    "        - Get Audiobook Info\n",
    "        - Get Several Audiobooks\n",
    "        - Get Audiobook Chapters\n",
    "        - Get User's Saved Audiobooks\n",
    "        - Get User's Saved Audiobooks\n",
    "        - Savee Audiobooks for Current User\n",
    "        - Remove User's Saved Audiobook\n",
    "        - Check User's Saved Audiobooks\n",
    "    - [Chapters](#Chapters)\n",
    "        - Get Chapter Info\n",
    "        - Gt Several Chapters\n",
    "    - [Tracks](#Tracks)\n",
    "        - Get Track Info\n",
    "        - Get Several Tracks\n",
    "        - Get User's Saved Tracks\n",
    "        - Save Tracks for Current User\n",
    "        - Remove User's Saved Tracks\n",
    "        - Check User's Saved Tracks\n",
    "        - Get Track's Audio Features\n",
    "        - Get Several Tracks Audio Features\n",
    "        - Get Track's Audio Analysis\n",
    "    - [Recommendations](#Recommendations)\n",
    "        - Get Recommendations\n",
    "    - [Search](#Search)\n",
    "        - Search for item\n",
    "            - Album\n",
    "            - Artist\n",
    "            - Genre\n",
    "            - Track\n",
    "    - [Users](#Users)\n",
    "        - Get Current User's Profile\n",
    "        - Get User's Top Items\n",
    "            - Artist\n",
    "            - Track\n",
    "        - Get User's Profile\n",
    "        - Follow Playlist\n",
    "        - Unfollow Playlist\n",
    "        - Get Followed Artists\n",
    "        - Follow Artists or Users\n",
    "        - Unfollow Artists or Users\n",
    "        - Check if User Follows Artists or Users\n",
    "        - Check if User Follow Playlist\n",
    "    -  [Playlists](#Playlists)\n",
    "        - Get Playlist\n",
    "        - Change Playlist Details\n",
    "        - Get Playlist Items\n",
    "        - Add Items to Playlist\n",
    "        - Update Playlist Items\n",
    "        - Remove Playlist Items\n",
    "        - Get Current User's Playlists\n",
    "        - Get User's Playlists\n",
    "        - Create Playlist\n",
    "        - Get Features Playlists\n",
    "        - Get Category's Playlists\n",
    "        - Get Playlist Cover Image\n",
    "        - Add Custom Playlist Cover Image\n",
    "    -   [Categories](#Categories)\n",
    "        - Get Several Browse Categories\n",
    "        - Get Single Browse Category\n",
    "    -   [Genres](#Genres)\n",
    "        - Get Available Genre Seeds\n",
    "    - [Player](#Player) \n",
    "        - Get Playback State\n",
    "        - Transfer Playback\n",
    "        - Get Available Devices\n",
    "        - Get Currently Playing Track\n",
    "        - Start/Resume Playback\n",
    "        - Pause Playback\n",
    "        - Skip To Next\n",
    "        - Skip To Previous\n",
    "        - Seek To Position\n",
    "        - Set Repeat Mode\n",
    "        - Set Playback Volume\n",
    "        -  Toggle Playback Shuffle\n",
    "        - Get Recently Played Tracks\n",
    "        - Get the User's Queue\n",
    "        - Add Item to Playback Queue\n",
    "    - [Markets](#Markets)\n",
    "        - Get Available Markets\n",
    "\n"
   ]
  },
  {
   "cell_type": "markdown",
   "metadata": {},
   "source": [
    "## Setup\n",
    "The initial setup provides a virtual environmet where you can install spotipy for the current showcases. Do it before running any of the examples above.\n"
   ]
  },
  {
   "cell_type": "code",
   "execution_count": null,
   "metadata": {},
   "outputs": [],
   "source": [
    "# initialize the virtual environment\n",
    "!python3 -m venv env"
   ]
  },
  {
   "cell_type": "code",
   "execution_count": null,
   "metadata": {},
   "outputs": [],
   "source": [
    "# depending on the type of configuration environment, you can select the virtual environment\n",
    "# automatically or executing the following instruction:\n",
    "!source env/bin/activate"
   ]
  },
  {
   "cell_type": "code",
   "execution_count": null,
   "metadata": {},
   "outputs": [],
   "source": [
    "# after activing the virtual environment, you can directly install dependencies with the following instruction\n",
    "!pip install -r requirements.txt"
   ]
  },
  {
   "cell_type": "markdown",
   "metadata": {},
   "source": [
    "Check the environment usage and select the generated venv. \n",
    "Furthermore, if you want to run some of the code below, you have to set some environmnet variables:\n",
    "```bash\n",
    "!export SPOTIPY_CLIENT_ID=client_id_here\n",
    "!export SPOTIPY_CLIENT_SECRET=client_secret_here\n",
    "!export SPOTIPY_CLIENT_USERNAME=client_username_here # This is actually an id not spotify display name\n",
    "!export SPOTIPY_REDIRECT_URI=http://localhost:8080 # Make url is set in app you created to get your ID and SECRET\n",
    "```"
   ]
  },
  {
   "cell_type": "markdown",
   "metadata": {},
   "source": [
    "Alternatively, you can set them into the following notebook variables:"
   ]
  },
  {
   "cell_type": "code",
   "execution_count": null,
   "metadata": {},
   "outputs": [],
   "source": [
    "SPOTIPY_CLIENT_ID=\"{client_id_here}\"\n",
    "SPOTIPY_CLIENT_SECRET=\"{client_secret_here}\"\n",
    "SPOTIPY_CLIENT_USERNAME=\"{client_username_here}\"\n",
    "SPOTIPY_REDIRECT_URI=\"http://localhost:8080\""
   ]
  },
  {
   "cell_type": "markdown",
   "metadata": {},
   "source": [
    "Check <a href=\"https://spotipy.readthedocs.io/en/2.22.1/#installation\">Spotipy documentation</a> for more info."
   ]
  },
  {
   "cell_type": "markdown",
   "metadata": {},
   "source": []
  },
  {
   "cell_type": "code",
   "execution_count": null,
   "metadata": {},
   "outputs": [],
   "source": [
    "import spotipy\n",
    "import os\n",
    "from pprint import pprint"
   ]
  },
  {
   "cell_type": "markdown",
   "metadata": {},
   "source": [
    "# Examples"
   ]
  },
  {
   "cell_type": "markdown",
   "metadata": {},
   "source": [
    "## Credentials"
   ]
  },
  {
   "attachments": {},
   "cell_type": "markdown",
   "metadata": {},
   "source": [
    "Credentials are essential to perform any of the Spotipy functions over the Spotify API usage. So, you need to run the following snippet of code and get an authenticated session for the Spotipy examples."
   ]
  },
  {
   "cell_type": "code",
   "execution_count": null,
   "metadata": {},
   "outputs": [],
   "source": [
    "# if you have the environment variables defined in the initial setup, you can also avoid to specify parameters \n",
    "# inside the SpotifyClientCredentials method.\n",
    "client_credentials_manager = spotipy.oauth2.SpotifyClientCredentials(SPOTIPY_CLIENT_ID, SPOTIPY_CLIENT_SECRET) \n",
    "sp = spotipy.Spotify(client_credentials_manager=client_credentials_manager)"
   ]
  },
  {
   "attachments": {},
   "cell_type": "markdown",
   "metadata": {},
   "source": [
    "Alternatively, we can initialize the Spotify client using environment global specified by the export instruction above. This solution provides an initialization of the Spotipy client without specify the user credentials."
   ]
  },
  {
   "cell_type": "code",
   "execution_count": null,
   "metadata": {},
   "outputs": [],
   "source": [
    "client_credentials_manager = spotipy.oauth2.SpotifyClientCredentials() \n",
    "sp = spotipy.Spotify(client_credentials_manager=client_credentials_manager)"
   ]
  },
  {
   "attachments": {},
   "cell_type": "markdown",
   "metadata": {},
   "source": [
    "Warning: For some operation, we need to specify the the authorization scope, we can check the list of scope types with the related operations in the [official Spotify API documentation](https://developer.spotify.com/documentation/general/guides/authorization/scopes/). The following example defines the Spotipy client with an explicit definition of the authorization scope:"
   ]
  },
  {
   "cell_type": "code",
   "execution_count": null,
   "metadata": {},
   "outputs": [],
   "source": [
    "scope=\"{scope_here}\"\n",
    "client_credentials_manager = spotipy.oauth2.SpotifyClientCredentials() \n",
    "sp = spotipy.Spotify(client_credentials_manager=client_credentials_manager, oauth_manager=spotipy.oauth2.SpotifyOAuth(scope=scope))"
   ]
  },
  {
   "cell_type": "markdown",
   "metadata": {},
   "source": [
    "## Albums"
   ]
  },
  {
   "cell_type": "markdown",
   "metadata": {},
   "source": [
    "Go back to the [summary](#Summary) to select another example."
   ]
  },
  {
   "attachments": {},
   "cell_type": "markdown",
   "metadata": {},
   "source": [
    "### Get Album Info\n",
    "Get Spotify catalog information for a single album.\n"
   ]
  },
  {
   "cell_type": "code",
   "execution_count": null,
   "metadata": {},
   "outputs": [],
   "source": [
    "# urn can be a URI, URL or ID of the album\n",
    "urn = 'spotify:album:5yTx83u3qerZF7GRJu7eFk'\n",
    "# retrieves album information in json format\n",
    "album = sp.album(urn)\n",
    "# formatted print of the result\n",
    "pprint(album)"
   ]
  },
  {
   "attachments": {},
   "cell_type": "markdown",
   "metadata": {},
   "source": [
    "### Get Several Albums\n",
    "Get Spotify catalog information for multiple albums identified by their Spotify IDs."
   ]
  },
  {
   "cell_type": "code",
   "execution_count": null,
   "metadata": {},
   "outputs": [],
   "source": [
    "# define the list of Spotify IDs related to the input albums\n",
    "ids = \"382ObEPsp2rxGrnsizN5TX,1A2GTWGtFfWp7KSQTwWOyo,2noRn2Aes5aoNVsU6iWThc\".split(',')\n",
    "# retrieves the collection of albums in json format\n",
    "albums = sp.albums(ids)\n",
    "# formatted print of the result\n",
    "pprint(albums)"
   ]
  },
  {
   "attachments": {},
   "cell_type": "markdown",
   "metadata": {},
   "source": [
    "### Get Album Tracks\n",
    "Get Spotify catalog information about an album’s tracks. Optional parameters can be used to limit the number of tracks returned."
   ]
  },
  {
   "cell_type": "code",
   "execution_count": null,
   "metadata": {},
   "outputs": [],
   "source": [
    "# specify the URL, URI or ID of the input album\n",
    "album_id = \"4aawyAB9vmqN3uQ7FjRGTy\"\n",
    "# get information about the \n",
    "tracks = sp.album_tracks(album_id)\n",
    "# formatted print of the result\n",
    "pprint(tracks)"
   ]
  },
  {
   "attachments": {},
   "cell_type": "markdown",
   "metadata": {},
   "source": [
    "### Get User's Saved Albums\n",
    "Get a list of the albums saved in the current Spotify user's 'Your Music' library."
   ]
  },
  {
   "cell_type": "code",
   "execution_count": null,
   "metadata": {},
   "outputs": [],
   "source": [
    "# define the read scope\n",
    "scope = 'user-library-read' \n",
    "# update the client object with the correct scope\n",
    "sp = spotipy.Spotify(auth_manager=spotipy.oauth2.SpotifyOAuth(client_id=SPOTIPY_CLIENT_ID, client_secret=SPOTIPY_CLIENT_SECRET, redirect_uri=SPOTIPY_REDIRECT_URI, scope=scope))\n",
    "# execute read operation on saved albums\n",
    "sp.current_user_saved_albums()"
   ]
  },
  {
   "attachments": {},
   "cell_type": "markdown",
   "metadata": {},
   "source": [
    "### Save Albums for Current User\n",
    "Save one or more albums to the current user's 'Your Music' library.\n"
   ]
  },
  {
   "cell_type": "code",
   "execution_count": null,
   "metadata": {},
   "outputs": [],
   "source": [
    "# adding the album ids to save in user saved albums\n",
    "album_ids = \"4g1ZRSobMefqF6nelkgibi,1A2GTWGtFfWp7KSQTwWOyo\".split(',')\n",
    "# modify the scope for the current operation\n",
    "scope = 'user-library-modify'\n",
    "# modify the client scope\n",
    "sp = spotipy.Spotify(auth_manager=spotipy.oauth2.SpotifyOAuth(client_id=SPOTIPY_CLIENT_ID, client_secret=SPOTIPY_CLIENT_SECRET, redirect_uri=SPOTIPY_REDIRECT_URI, scope=scope))\n",
    "# adding the saved albums specified in the list of ids given in input\n",
    "sp.current_user_saved_albums_add(albums=album_ids)"
   ]
  },
  {
   "attachments": {},
   "cell_type": "markdown",
   "metadata": {},
   "source": [
    "### Remove Users' Saved Albums\n",
    "Remove one or more albums from the current user's 'Your Music' library.\n"
   ]
  },
  {
   "cell_type": "code",
   "execution_count": null,
   "metadata": {},
   "outputs": [],
   "source": [
    "# if the current ids are not available in the user saved albums, the delete operation has no effect\n",
    "album_ids = \"382ObEPsp2rxGrnsizN5TX,1A2GTWGtFfWp7KSQTwWOyo,2noRn2Aes5aoNVsU6iWThc\".split(',')\n",
    "# change the scope to have authorization for the user delete operation\n",
    "scope='user-library-modify'\n",
    "# reinit the client object with the correct scope\n",
    "sp = spotipy.Spotify(auth_manager=spotipy.oauth2.SpotifyOAuth(client_id=SPOTIPY_CLIENT_ID, client_secret=SPOTIPY_CLIENT_SECRET, redirect_uri=SPOTIPY_REDIRECT_URI, scope=scope))\n",
    "# execute operation\n",
    "sp.current_user_saved_albums_delete(album_ids)"
   ]
  },
  {
   "attachments": {},
   "cell_type": "markdown",
   "metadata": {},
   "source": [
    "### Check User's Saved Albums\n",
    "Check if one or more albums is already saved in the current Spotify user's 'Your Music' library.\n"
   ]
  },
  {
   "cell_type": "code",
   "execution_count": null,
   "metadata": {},
   "outputs": [],
   "source": [
    "# define the list of albums to verify \n",
    "album_ids = \"382ObEPsp2rxGrnsizN5TX,1A2GTWGtFfWp7KSQTwWOyo,2noRn2Aes5aoNVsU6iWThc\".split(',')\n",
    "# redefine the Spotipy client with the correct authorization scope\n",
    "scope=\"user-library-read\"\n",
    "sp = spotipy.Spotify(auth_manager=spotipy.oauth2.SpotifyOAuth(client_id=SPOTIPY_CLIENT_ID, client_secret=SPOTIPY_CLIENT_SECRET, redirect_uri=SPOTIPY_REDIRECT_URI, scope=scope))\n",
    "# check the existence of albums id inside the user saved albums collection\n",
    "checks = sp.current_user_saved_albums_contains(albums=album_ids)\n",
    "# print results\n",
    "for i in range(len(album_ids)):\n",
    "    print(f\"{album_ids[i]} => {checks[i]}\")"
   ]
  },
  {
   "attachments": {},
   "cell_type": "markdown",
   "metadata": {},
   "source": [
    "### Get New Release\n",
    "Get a list of new album releases featured in Spotify (shown, for example, on a Spotify player’s “Browse” tab)."
   ]
  },
  {
   "cell_type": "code",
   "execution_count": null,
   "metadata": {},
   "outputs": [],
   "source": [
    "# get new release\n",
    "response = sp.new_releases()\n",
    "# print album name of new releases \n",
    "while response:\n",
    "    albums = response['albums']\n",
    "    for i, item in enumerate(albums['items']):\n",
    "        print(albums['offset'] + i, item['name'])\n",
    "\n",
    "    if albums['next']:\n",
    "        response = sp.next(albums)\n",
    "    else:\n",
    "        response = None"
   ]
  },
  {
   "cell_type": "markdown",
   "metadata": {},
   "source": [
    "## Artists"
   ]
  },
  {
   "cell_type": "markdown",
   "metadata": {},
   "source": [
    "Go back to the [summary](#Summary) to select another example."
   ]
  },
  {
   "cell_type": "markdown",
   "metadata": {},
   "source": [
    "## Shows"
   ]
  },
  {
   "cell_type": "markdown",
   "metadata": {},
   "source": [
    "Go back to the [summary](#Summary) to select another example."
   ]
  },
  {
   "cell_type": "markdown",
   "metadata": {},
   "source": [
    "## Episodes"
   ]
  },
  {
   "cell_type": "markdown",
   "metadata": {},
   "source": [
    "Go back to the [summary](#Summary) to select another example."
   ]
  },
  {
   "cell_type": "markdown",
   "metadata": {},
   "source": [
    "### Audiobooks <span id=\"audiobooks\"></span>"
   ]
  },
  {
   "cell_type": "markdown",
   "metadata": {},
   "source": [
    "Go back to the [summary](#Summary) to select another example."
   ]
  },
  {
   "cell_type": "markdown",
   "metadata": {},
   "source": [
    "### Chapters <span id=\"chapters\"></span>"
   ]
  },
  {
   "cell_type": "markdown",
   "metadata": {},
   "source": [
    "Go back to the [summary](#Summary) to select another example."
   ]
  },
  {
   "cell_type": "markdown",
   "metadata": {},
   "source": [
    "### Tracks <span id=\"tracks\"></span>"
   ]
  },
  {
   "cell_type": "markdown",
   "metadata": {},
   "source": [
    "Go back to the [summary](#Summary) to select another example."
   ]
  },
  {
   "cell_type": "markdown",
   "metadata": {},
   "source": [
    "### Recommendations <span id=\"recommendations\"></span>"
   ]
  },
  {
   "cell_type": "markdown",
   "metadata": {},
   "source": [
    "Go back to the [summary](#Summary) to select another example."
   ]
  },
  {
   "cell_type": "markdown",
   "metadata": {},
   "source": [
    "### Search <span id=\"search\"></span>"
   ]
  },
  {
   "cell_type": "markdown",
   "metadata": {},
   "source": [
    "Go back to the [summary](#Summary) to select another example."
   ]
  },
  {
   "cell_type": "markdown",
   "metadata": {},
   "source": [
    "## Users "
   ]
  },
  {
   "cell_type": "markdown",
   "metadata": {},
   "source": [
    "Go back to the [summary](#Summary) to select another example."
   ]
  },
  {
   "cell_type": "markdown",
   "metadata": {},
   "source": [
    "## Playlists "
   ]
  },
  {
   "cell_type": "markdown",
   "metadata": {},
   "source": [
    "Go back to the [summary](#Summary) to select another example."
   ]
  },
  {
   "cell_type": "markdown",
   "metadata": {},
   "source": [
    "## Categories"
   ]
  },
  {
   "cell_type": "markdown",
   "metadata": {},
   "source": [
    "Go back to the [summary](#Summary) to select another example."
   ]
  },
  {
   "cell_type": "markdown",
   "metadata": {},
   "source": [
    "## Genres "
   ]
  },
  {
   "cell_type": "markdown",
   "metadata": {},
   "source": [
    "Go back to the [summary](#Summary) to select another example."
   ]
  },
  {
   "cell_type": "markdown",
   "metadata": {},
   "source": [
    "## Player "
   ]
  },
  {
   "cell_type": "markdown",
   "metadata": {},
   "source": [
    "Go back to the [summary](#Summary) to select another example."
   ]
  },
  {
   "cell_type": "markdown",
   "metadata": {},
   "source": [
    "## Markets"
   ]
  },
  {
   "cell_type": "markdown",
   "metadata": {},
   "source": [
    "Go back to the [summary](#Summary) to select another example."
   ]
  }
 ],
 "metadata": {
  "kernelspec": {
   "display_name": "Python 3 (ipykernel)",
   "language": "python",
   "name": "python3"
  },
  "language_info": {
   "codemirror_mode": {
    "name": "ipython",
    "version": 3
   },
   "file_extension": ".py",
   "mimetype": "text/x-python",
   "name": "python",
   "nbconvert_exporter": "python",
   "pygments_lexer": "ipython3",
   "version": "3.10.9"
  },
  "vscode": {
   "interpreter": {
    "hash": "51ba026091f7204dab6323b5365fdc18135c1f25bbe78970ae3e5ff30dab8c1b"
   }
  }
 },
 "nbformat": 4,
 "nbformat_minor": 4
}
