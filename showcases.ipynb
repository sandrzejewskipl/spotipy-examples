{
 "cells": [
  {
   "attachments": {},
   "cell_type": "markdown",
   "metadata": {},
   "source": [
    "# Showcases"
   ]
  },
  {
   "attachments": {},
   "cell_type": "markdown",
   "metadata": {},
   "source": [
    "A series of showcase for the spotipy application."
   ]
  },
  {
   "attachments": {},
   "cell_type": "markdown",
   "metadata": {},
   "source": [
    "## Summary <span id=\"summary\"></span>\n",
    "\n",
    "The current summary follows the index order of the official Spotify Documentation. So, you can directly check how to use Spotipy for each Spotify API defined in the Spotify reference page.\n",
    "\n",
    "- <a href=\"#setup\"> Initial Setup </a>\n",
    "- <a href=\"#importPackage\"> Import Packages </a>\n",
    "- <a href=\"#examples\"> Examples </a>\n",
    "    - <a href=\"#albums\"> Client Credentials Flow </a>\n",
    "    - <a href=\"#albums\"> Albums</a>\n",
    "        - Get Album Info\n",
    "        - Get Several Album\n",
    "        - Get Albums Tracks\n",
    "        - Get Saved Albums\n",
    "        - Save Albums in \"Your Music\"\n",
    "        - Remove Album\n",
    "        - Check Saved Albums\n",
    "        - Get New Release\n",
    "    - <a href=\"#artists\">Artists </a>\n",
    "        - Get Artist Info\n",
    "        - Get Several Artists\n",
    "        - Get Artist's Albums\n",
    "        - Get Artist's Top Tracks\n",
    "        - Get Artist's Related Artists\n",
    "    - <a href=\"#shows\">Shows </a>\n",
    "        - Get Show Info\n",
    "        - Get Several Shows\n",
    "        - Get Show Episodes\n",
    "        - Get User's Saved Shows\n",
    "        - Save Show for the Current User\n",
    "        - Remove User's Saved Albums\n",
    "        - Check User's Saved Shows\n",
    "    - <a href=\"#episodes\"> Episodes </a>\n",
    "        - Get Episode\n",
    "        - Get Several Episodes\n",
    "        - Get User's Saved Episodes\n",
    "        - Save Episodes for Current User\n",
    "        - Remove User's Saved Episodes\n",
    "        - Check User's Saved Episodes\n",
    "    - <a href=\"#audiobooks\"> Audiobooks </a>\n",
    "        - Get Audiobook Info\n",
    "        - Get Several Audiobooks\n",
    "        - Get Audiobook Chapters\n",
    "        - Get User's Saved Audiobooks\n",
    "        - Get User's Saved Audiobooks\n",
    "        - Savee Audiobooks for Current User\n",
    "        - Remove User's Saved Audiobook\n",
    "        - Check User's Saved Audiobooks\n",
    "    - <a href=\"#chapters\"> Chapters </a>\n",
    "        - Get Chapter Info\n",
    "        - Gt Several Chapters\n",
    "    - <a href=\"#tracks\"> Tracks </a>\n",
    "        - Get Track Info\n",
    "        - Get Several Tracks\n",
    "        - Get User's Saved Tracks\n",
    "        - Save Tracks for Current User\n",
    "        - Remove User's Saved Tracks\n",
    "        - Check User's Saved Tracks\n",
    "        - Get Track's Audio Features\n",
    "        - Get Several Tracks Audio Features\n",
    "        - Get Track's Audio Analysis\n",
    "    - <a href=\"#recommendations\"> Recommendations </a>\n",
    "        - Get Recommendations\n",
    "    - <a href=\"#search\"> Search </a>\n",
    "        - Search for item\n",
    "            - Album\n",
    "            - Artist\n",
    "            - Genre\n",
    "            - Track\n",
    "    - <a href=\"#users\"> Users </a>\n",
    "        - Get Current User's Profile\n",
    "        - Get User's Top Items\n",
    "            - Artist\n",
    "            - Track\n",
    "        - Get User's Profile\n",
    "        - Follow Playlist\n",
    "        - Unfollow Playlist\n",
    "        - Get Followed Artists\n",
    "        - Follow Artists or Users\n",
    "        - Unfollow Artists or Users\n",
    "        - Check if User Follows Artists or Users\n",
    "        - Check if User Follow Playlist\n",
    "    - <a href=\"#playlists\"> Playlists </a>\n",
    "        - Get Playlist\n",
    "        - Change Playlist Details\n",
    "        - Get Playlist Items\n",
    "        - Add Items to Playlist\n",
    "        - Update Playlist Items\n",
    "        - Remove Playlist Items\n",
    "        - Get Current User's Playlists\n",
    "        - Get User's Playlists\n",
    "        - Create Playlist\n",
    "        - Get Features Playlists\n",
    "        - Get Category's Playlists\n",
    "        - Get Playlist Cover Image\n",
    "        - Add Custom Playlist Cover Image\n",
    "    - <a href=\"#categories\"> Categories </a>\n",
    "        - Get Several Browse Categories\n",
    "        - Get Single Browse Category\n",
    "    - <a href=\"#genres\"> Genres </a>\n",
    "        - Get Available Genre Seeds\n",
    "    - <a href=\"#player\"> Player </a>\n",
    "        - Get Playback State\n",
    "        - Transfer Playback\n",
    "        - Get Available Devices\n",
    "        - Get Currently Playing Track\n",
    "        - Start/Resume Playback\n",
    "        - Pause Playback\n",
    "        - Skip To Next\n",
    "        - Skip To Previous\n",
    "        - Seek To Position\n",
    "        - Set Repeat Mode\n",
    "        - Set Playback Volume\n",
    "        -  Toggle Playback Shuffle\n",
    "        - Get Recently Played Tracks\n",
    "        - Get the User's Queue\n",
    "        - Add Item to Playback Queue\n",
    "    - <a href=\"#markets\"> Markets </a>\n",
    "        - Get Available Markets\n",
    "\n"
   ]
  },
  {
   "attachments": {},
   "cell_type": "markdown",
   "metadata": {},
   "source": [
    "## Initial Setup <span id=\"setup\"></span>\n",
    "The initial setup provides a virtual environmet where you can install spotipy for the current showcases. Do it before running any of the examples above.\n"
   ]
  },
  {
   "cell_type": "code",
   "execution_count": 3,
   "metadata": {},
   "outputs": [],
   "source": [
    "# initialize the virtual environment\n",
    "!python3 -m venv env"
   ]
  },
  {
   "cell_type": "code",
   "execution_count": 4,
   "metadata": {},
   "outputs": [],
   "source": [
    "# depending on the type of configuration environment, you can select the virtual environment\n",
    "# automatically or executing the following instruction:\n",
    "!source env/bin/activate"
   ]
  },
  {
   "cell_type": "code",
   "execution_count": null,
   "metadata": {},
   "outputs": [],
   "source": [
    "# after activing the virtual environment, you can directly install dependencies with the following instruction\n",
    "!pip install -r requirements.txt"
   ]
  },
  {
   "attachments": {},
   "cell_type": "markdown",
   "metadata": {},
   "source": [
    "Check the environment usage and select the generated venv. \n",
    "Furthermore, if you want to run some of the code below, you have to set some environmnet variables:\n",
    "```bash\n",
    "export SPOTIPY_CLIENT_ID=client_id_here\n",
    "export SPOTIPY_CLIENT_SECRET=client_secret_here\n",
    "export SPOTIPY_CLIENT_USERNAME=client_username_here # This is actually an id not spotify display name\n",
    "export SPOTIPY_REDIRECT_URI=http://localhost:8080 # Make url is set in app you created to get your ID and SECRET\n",
    "```\n",
    "Check <a href=\"https://spotipy.readthedocs.io/en/2.22.1/#installation\">Spotipy documentation</a> for more info."
   ]
  },
  {
   "attachments": {},
   "cell_type": "markdown",
   "metadata": {},
   "source": [
    "## Import Packages <span id=\"importPackage\"></span>"
   ]
  },
  {
   "cell_type": "code",
   "execution_count": 3,
   "metadata": {},
   "outputs": [],
   "source": [
    "import spotipy"
   ]
  },
  {
   "attachments": {},
   "cell_type": "markdown",
   "metadata": {},
   "source": [
    "## Examples <span id=\"example\"></span>"
   ]
  },
  {
   "attachments": {},
   "cell_type": "markdown",
   "metadata": {},
   "source": [
    "### Client Credential Flow <span id=\"clientCredentialFlow\"></span>"
   ]
  },
  {
   "attachments": {},
   "cell_type": "markdown",
   "metadata": {},
   "source": [
    "Go back to the <a href=\"#summary\">summary</a> to select another example."
   ]
  },
  {
   "attachments": {},
   "cell_type": "markdown",
   "metadata": {},
   "source": [
    "### Albums <span id=\"albums\"></span>"
   ]
  },
  {
   "attachments": {},
   "cell_type": "markdown",
   "metadata": {},
   "source": [
    "Go back to the <a href=\"#summary\">summary</a> to select another example."
   ]
  },
  {
   "attachments": {},
   "cell_type": "markdown",
   "metadata": {},
   "source": [
    "### Artists <span id=\"artists\"></span>"
   ]
  },
  {
   "attachments": {},
   "cell_type": "markdown",
   "metadata": {},
   "source": [
    "Go back to the <a href=\"#summary\">summary</a> to select another example."
   ]
  },
  {
   "attachments": {},
   "cell_type": "markdown",
   "metadata": {},
   "source": [
    "### Shows <span id=\"shows\"></span>"
   ]
  },
  {
   "attachments": {},
   "cell_type": "markdown",
   "metadata": {},
   "source": [
    "Go back to the <a href=\"#summary\">summary</a> to select another example."
   ]
  },
  {
   "attachments": {},
   "cell_type": "markdown",
   "metadata": {},
   "source": [
    "### Episodes <span id=\"episodes\"></span>"
   ]
  },
  {
   "attachments": {},
   "cell_type": "markdown",
   "metadata": {},
   "source": [
    "Go back to the <a href=\"#summary\">summary</a> to select another example."
   ]
  },
  {
   "attachments": {},
   "cell_type": "markdown",
   "metadata": {},
   "source": [
    "### Audiobooks <span id=\"audiobooks\"></span>"
   ]
  },
  {
   "attachments": {},
   "cell_type": "markdown",
   "metadata": {},
   "source": [
    "Go back to the <a href=\"#summary\">summary</a> to select another example."
   ]
  },
  {
   "attachments": {},
   "cell_type": "markdown",
   "metadata": {},
   "source": [
    "### Chapters <span id=\"chapters\"></span>"
   ]
  },
  {
   "attachments": {},
   "cell_type": "markdown",
   "metadata": {},
   "source": [
    "Go back to the <a href=\"#summary\">summary</a> to select another example."
   ]
  },
  {
   "attachments": {},
   "cell_type": "markdown",
   "metadata": {},
   "source": [
    "### Tracks <span id=\"tracks\"></span>"
   ]
  },
  {
   "attachments": {},
   "cell_type": "markdown",
   "metadata": {},
   "source": [
    "Go back to the <a href=\"#summary\">summary</a> to select another example."
   ]
  },
  {
   "attachments": {},
   "cell_type": "markdown",
   "metadata": {},
   "source": [
    "### Recommendations <span id=\"recommendations\"></span>"
   ]
  },
  {
   "attachments": {},
   "cell_type": "markdown",
   "metadata": {},
   "source": [
    "Go back to the <a href=\"#summary\">summary</a> to select another example."
   ]
  },
  {
   "attachments": {},
   "cell_type": "markdown",
   "metadata": {},
   "source": [
    "### Search <span id=\"search\"></span>"
   ]
  },
  {
   "attachments": {},
   "cell_type": "markdown",
   "metadata": {},
   "source": [
    "Go back to the <a href=\"#summary\">summary</a> to select another example."
   ]
  },
  {
   "attachments": {},
   "cell_type": "markdown",
   "metadata": {},
   "source": [
    "### Users <span id=\"users\"></span>"
   ]
  },
  {
   "attachments": {},
   "cell_type": "markdown",
   "metadata": {},
   "source": [
    "Go back to the <a href=\"#summary\">summary</a> to select another example."
   ]
  },
  {
   "attachments": {},
   "cell_type": "markdown",
   "metadata": {},
   "source": [
    "### Playlists <span id=\"playlists\"></span>"
   ]
  },
  {
   "attachments": {},
   "cell_type": "markdown",
   "metadata": {},
   "source": [
    "Go back to the <a href=\"#summary\">summary</a> to select another example."
   ]
  },
  {
   "attachments": {},
   "cell_type": "markdown",
   "metadata": {},
   "source": [
    "### Categories <span id=\"categories\"></span>"
   ]
  },
  {
   "attachments": {},
   "cell_type": "markdown",
   "metadata": {},
   "source": [
    "Go back to the <a href=\"#summary\">summary</a> to select another example."
   ]
  },
  {
   "attachments": {},
   "cell_type": "markdown",
   "metadata": {},
   "source": [
    "### Genres <span id=\"genres\"></span>"
   ]
  },
  {
   "attachments": {},
   "cell_type": "markdown",
   "metadata": {},
   "source": [
    "Go back to the <a href=\"#summary\">summary</a> to select another example."
   ]
  },
  {
   "attachments": {},
   "cell_type": "markdown",
   "metadata": {},
   "source": [
    "### Player <span id=\"player\"></span>"
   ]
  },
  {
   "attachments": {},
   "cell_type": "markdown",
   "metadata": {},
   "source": [
    "Go back to the <a href=\"#summary\">summary</a> to select another example."
   ]
  },
  {
   "attachments": {},
   "cell_type": "markdown",
   "metadata": {},
   "source": [
    "### Markets <span id=\"markets\"></span>"
   ]
  },
  {
   "attachments": {},
   "cell_type": "markdown",
   "metadata": {},
   "source": [
    "Go back to the <a href=\"#summary\">summary</a> to select another example."
   ]
  }
 ],
 "metadata": {
  "kernelspec": {
   "display_name": "env",
   "language": "python",
   "name": "python3"
  },
  "language_info": {
   "codemirror_mode": {
    "name": "ipython",
    "version": 3
   },
   "file_extension": ".py",
   "mimetype": "text/x-python",
   "name": "python",
   "nbconvert_exporter": "python",
   "pygments_lexer": "ipython3",
   "version": "3.10.9"
  },
  "orig_nbformat": 4,
  "vscode": {
   "interpreter": {
    "hash": "51ba026091f7204dab6323b5365fdc18135c1f25bbe78970ae3e5ff30dab8c1b"
   }
  }
 },
 "nbformat": 4,
 "nbformat_minor": 2
}
